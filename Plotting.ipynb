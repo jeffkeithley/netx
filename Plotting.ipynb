{
 "cells": [
  {
   "cell_type": "code",
   "execution_count": 1,
   "id": "afec3b8a",
   "metadata": {},
   "outputs": [],
   "source": [
    "import networkx as nx\n",
    "import matplotlib.pyplot as plt"
   ]
  },
  {
   "cell_type": "markdown",
   "id": "17368190",
   "metadata": {},
   "source": [
    "## Basic Add Edges/Nodes"
   ]
  },
  {
   "cell_type": "code",
   "execution_count": 2,
   "id": "cac41409",
   "metadata": {},
   "outputs": [],
   "source": [
    "# FOR FIGURE 1\n",
    "\n",
    "G = nx.Graph()\n",
    "\n",
    "active = []\n",
    "inactive = [(1, {'label': r'$\\theta_u$'}), \n",
    "            (2, {'label': r'$\\theta_v$'}),\n",
    "            (3, {'label': r'$\\theta_w$'})]\n",
    "\n",
    "G.add_nodes_from(active+inactive)\n",
    "#G.add_nodes_from([(4, {\"color\": \"red\"}), (5, {\"color\": \"green\"})])\n",
    "\n",
    "G.add_edges_from([(1, 2, {'weight1': r'$b_{uv}$', 'weight2': r'$b_{vu}$'}), \n",
    "                  (2, 3, {'weight1': r'$b_{vw}$', 'weight2': r'$b_{wv}$'}), \n",
    "                  (1, 3, {'weight1': r'$b_{uw}$', 'weight2': r'$b_{wu}$'})])"
   ]
  },
  {
   "cell_type": "code",
   "execution_count": 3,
   "id": "e548dcb2",
   "metadata": {},
   "outputs": [],
   "source": [
    "# FOR FIGURE 2\n",
    "\n",
    "G = nx.Graph()\n",
    "\n",
    "active = []\n",
    "inactive = [(1, {'label': 0.6}), \n",
    "            (2, {'label': 0.4}),\n",
    "            (3, {'label': 0.3})]\n",
    "\n",
    "G.add_nodes_from(active+inactive)\n",
    "#G.add_nodes_from([(4, {\"color\": \"red\"}), (5, {\"color\": \"green\"})])\n",
    "\n",
    "G.add_edges_from([(1, 2, {'weight1': 0.1, 'weight2': 0.2}), \n",
    "                  (2, 3, {'weight1': 0.6, 'weight2': 0.3}), \n",
    "                  (1, 3, {'weight1': 0.2, 'weight2': 0.2})])"
   ]
  },
  {
   "cell_type": "code",
   "execution_count": 4,
   "id": "6aefcba8",
   "metadata": {},
   "outputs": [],
   "source": [
    "# EXPERIMENTAL\n",
    "\n",
    "G = nx.Graph()\n",
    "\n",
    "active = [(1, {'label': 0.5}), \n",
    "          (2, {'label': 22}), \n",
    "          (3, {'label': 33})]\n",
    "inactive = [(4, {'label': 44}), \n",
    "            (5, {'label': 55})]\n",
    "\n",
    "G.add_nodes_from(active+inactive)\n",
    "#G.add_nodes_from([(4, {\"color\": \"red\"}), (5, {\"color\": \"green\"})])\n",
    "\n",
    "G.add_edges_from([(1, 2, {'weight1': 1, 'weight2': 1}), \n",
    "                  (2, 3, {'weight1': 2, 'weight2': 1}), \n",
    "                  (4, 5, {'weight1': 1, 'weight2': 1}), \n",
    "                  (3, 4, {'weight1': 1, 'weight2': 1}), \n",
    "                  (2, 4, {'weight1': 1, 'weight2': 1})])"
   ]
  },
  {
   "cell_type": "code",
   "execution_count": 5,
   "id": "a4f17ad8",
   "metadata": {},
   "outputs": [
    {
     "name": "stdout",
     "output_type": "stream",
     "text": [
      "\n"
     ]
    },
    {
     "data": {
      "image/png": "[encoded data removed]",
      "text/plain": [
       "<Figure size 432x288 with 1 Axes>"
      ]
     },
     "metadata": {},
     "output_type": "display_data"
    }
   ],
   "source": [
    "#subax1 = plt.subplot(121)\n",
    "options = {'node_size': 1000,\n",
    "           'node_color': 'white',\n",
    "           'edge_color': 'black',\n",
    "           'width': 2,\n",
    "           'with_labels': False}\n",
    "\n",
    "edge_labels1 = dict([((n1, n2), d['weight1'])\n",
    "                    for n1, n2, d in G.edges(data=True)])\n",
    "edge_labels2 = dict([((n2, n1), d['weight2'])\n",
    "                    for n1, n2, d in G.edges(data=True)])\n",
    "edge_labels = {**edge_labels1, **edge_labels2}\n",
    "\n",
    "labels = dict([(n, d['label'])\n",
    "                    for n, d in G.nodes(data=True)])\n",
    "\n",
    "pos = nx.spring_layout(G, seed=0)\n",
    "nx.draw(G, pos, **options, font_weight='bold')\n",
    "\n",
    "nx.draw_networkx_edge_labels(G, pos, edge_labels=edge_labels,label_pos=0.75,font_size=16,font_color='red')\n",
    "\n",
    "#nx.draw_networkx_nodes(G, pos, alpha=0.8, nodelist=[x[0] for x in active], node_color=\"lightblue\")\n",
    "nx.draw_networkx_nodes(G, pos, alpha=0.75, nodelist=[x[0] for x in inactive], node_color=\"red\", node_size=900)\n",
    "\n",
    "nx.draw_networkx_labels(G, pos, labels, font_size=16)\n",
    "print()"
   ]
  },
  {
   "cell_type": "code",
   "execution_count": null,
   "id": "d1f6a7a3",
   "metadata": {},
   "outputs": [],
   "source": [
    "# nx.draw(G)\n",
    "# plt.savefig(\"path.png\")"
   ]
  },
  {
   "cell_type": "code",
   "execution_count": null,
   "id": "f9b74d31",
   "metadata": {},
   "outputs": [],
   "source": [
    "# from networkx.drawing.nx_pydot import write_dot\n",
    "# pos = nx.nx_agraph.graphviz_layout(G)\n",
    "# nx.draw(G, pos=pos)\n",
    "# write_dot(G, 'file.dot')"
   ]
  }
 ],
 "metadata": {
  "kernelspec": {
   "display_name": "Python 3",
   "language": "python",
   "name": "python3"
  },
  "language_info": {
   "codemirror_mode": {
    "name": "ipython",
    "version": 3
   },
   "file_extension": ".py",
   "mimetype": "text/x-python",
   "name": "python",
   "nbconvert_exporter": "python",
   "pygments_lexer": "ipython3",
   "version": "3.9.10"
  }
 },
 "nbformat": 4,
 "nbformat_minor": 5
}
