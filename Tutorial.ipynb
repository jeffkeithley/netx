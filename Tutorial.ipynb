{
 "cells": [
  {
   "cell_type": "code",
   "execution_count": 1,
   "id": "d0ea0080",
   "metadata": {},
   "outputs": [],
   "source": [
    "import networkx as nx"
   ]
  },
  {
   "cell_type": "markdown",
   "id": "3e1943fd",
   "metadata": {},
   "source": [
    "## Basic Add Edges/Nodes"
   ]
  },
  {
   "cell_type": "code",
   "execution_count": 2,
   "id": "17c16ac0",
   "metadata": {},
   "outputs": [
    {
     "name": "stdout",
     "output_type": "stream",
     "text": [
      "10\n",
      "2\n",
      "[1, 2, 3, 4, 5, 0, 6, 7, 8, 9]\n",
      "[(1, 2), (2, 3)]\n"
     ]
    }
   ],
   "source": [
    "G = nx.Graph()\n",
    "\n",
    "G.add_node(1)\n",
    "G.add_nodes_from([2, 3])\n",
    "G.add_nodes_from([(4, {\"color\": \"red\"}), (5, {\"color\": \"green\"})])\n",
    "\n",
    "H = nx.path_graph(10)\n",
    "G.add_nodes_from(H)\n",
    "#G.add_node(H)\n",
    "\n",
    "G.add_edge(1, 2)\n",
    "e = (2, 3)\n",
    "G.add_edge(*e)\n",
    "print(G.number_of_nodes())\n",
    "print(G.number_of_edges())\n",
    "print(G.nodes)\n",
    "print(G.edges)"
   ]
  },
  {
   "cell_type": "code",
   "execution_count": 3,
   "id": "fb2d9edf",
   "metadata": {},
   "outputs": [
    {
     "name": "stdout",
     "output_type": "stream",
     "text": [
      "[1, 2, 3, 'spam', 's', 'p', 'a', 'm']\n",
      "[(1, 2), (1, 3), (3, 'm')]\n"
     ]
    }
   ],
   "source": [
    "G.clear()\n",
    "\n",
    "G.add_edges_from([(1, 2), (1, 3)])\n",
    "G.add_node(1)\n",
    "G.add_edge(1, 2)\n",
    "G.add_node(\"spam\")\n",
    "G.add_nodes_from(\"spam\")\n",
    "G.add_edge(3, 'm')\n",
    "print(G.nodes)\n",
    "print(G.edges)"
   ]
  },
  {
   "cell_type": "markdown",
   "id": "caa5e056",
   "metadata": {},
   "source": [
    "## DiGraph"
   ]
  },
  {
   "cell_type": "code",
   "execution_count": 4,
   "id": "c50daa20",
   "metadata": {},
   "outputs": [
    {
     "name": "stdout",
     "output_type": "stream",
     "text": [
      "[1, 4]\n",
      "[(2, 1), (2, 4), (1, 3), (1, 2)]\n"
     ]
    }
   ],
   "source": [
    "DG = nx.DiGraph()\n",
    "DG.add_edge(2, 1)\n",
    "DG.add_edge(1, 3)\n",
    "DG.add_edge(2, 4)\n",
    "DG.add_edge(1, 2)\n",
    "print(list(DG.successors(2)))\n",
    "print(DG.edges)"
   ]
  },
  {
   "cell_type": "markdown",
   "id": "8d9d3d47",
   "metadata": {},
   "source": [
    "## Examining elements of a graph"
   ]
  },
  {
   "cell_type": "code",
   "execution_count": 5,
   "id": "c0da9875",
   "metadata": {},
   "outputs": [
    {
     "name": "stdout",
     "output_type": "stream",
     "text": [
      "[1, 2, 3, 'spam', 's', 'p', 'a', 'm']\n",
      "[(1, 2), (1, 3), (3, 'm')]\n",
      "{2: {}, 3: {}}\n",
      "2\n"
     ]
    }
   ],
   "source": [
    "print(list(G.nodes))\n",
    "print(list(G.edges))\n",
    "print(G.adj[1])\n",
    "print(G.degree[1])"
   ]
  },
  {
   "cell_type": "code",
   "execution_count": 6,
   "id": "159939cf",
   "metadata": {},
   "outputs": [
    {
     "name": "stdout",
     "output_type": "stream",
     "text": [
      "[(2, 1), ('m', 3)]\n"
     ]
    },
    {
     "data": {
      "text/plain": [
       "DegreeView({2: 1, 3: 2})"
      ]
     },
     "execution_count": 6,
     "metadata": {},
     "output_type": "execute_result"
    }
   ],
   "source": [
    "print(G.edges([2, 'm']))\n",
    "G.degree([2, 3])"
   ]
  },
  {
   "cell_type": "markdown",
   "id": "19889d7c",
   "metadata": {},
   "source": [
    "## Removing elements from a graph"
   ]
  },
  {
   "cell_type": "code",
   "execution_count": 7,
   "id": "c480cc5f",
   "metadata": {},
   "outputs": [
    {
     "name": "stdout",
     "output_type": "stream",
     "text": [
      "[1, 3, 'spam']\n"
     ]
    }
   ],
   "source": [
    "G.remove_node(2)\n",
    "G.remove_nodes_from(\"spam\")\n",
    "print(list(G.nodes))\n",
    "G.remove_edge(1, 3)"
   ]
  },
  {
   "cell_type": "markdown",
   "id": "314c94c5",
   "metadata": {},
   "source": [
    "## Accessing edges and neighbors"
   ]
  },
  {
   "cell_type": "code",
   "execution_count": 23,
   "id": "5ba71fc5",
   "metadata": {},
   "outputs": [
    {
     "name": "stdout",
     "output_type": "stream",
     "text": [
      "{2: {'color': 'yellow'}}\n",
      "{'color': 'yellow'}\n"
     ]
    }
   ],
   "source": [
    "G = nx.Graph([(1, 2, {\"color\": \"yellow\"})])\n",
    "print(G[1])\n",
    "print(G.edges[1, 2])"
   ]
  },
  {
   "cell_type": "code",
   "execution_count": 35,
   "id": "b3f6185e",
   "metadata": {},
   "outputs": [
    {
     "data": {
      "text/plain": [
       "EdgeView([(1, 2), (1, 3)])"
      ]
     },
     "execution_count": 35,
     "metadata": {},
     "output_type": "execute_result"
    }
   ],
   "source": [
    "G.add_edge(1, 3)\n",
    "G[1][3]['color'] = 'blue'\n",
    "G.edges[1, 2]['color'] = 'red'\n",
    "G.edges"
   ]
  },
  {
   "cell_type": "code",
   "execution_count": 40,
   "id": "1b11916c",
   "metadata": {},
   "outputs": [
    {
     "name": "stdout",
     "output_type": "stream",
     "text": [
      "(1, 2, 0.125)\n",
      "(2, 1, 0.125)\n",
      "(3, 4, 0.375)\n",
      "(4, 3, 0.375)\n"
     ]
    }
   ],
   "source": [
    "FG = nx.Graph()\n",
    "FG.add_weighted_edges_from([(1, 2, 0.125), (1, 3, 0.75), (2, 4, 1.2), (3, 4, 0.375)])\n",
    "for n, nbrs in FG.adj.items():\n",
    "    for nbr, eattr in nbrs.items():\n",
    "        wt = eattr['weight']\n",
    "        if wt < 0.5: print(f\"({n}, {nbr}, {wt:.3})\")"
   ]
  },
  {
   "cell_type": "code",
   "execution_count": 57,
   "id": "b69cd9c9",
   "metadata": {},
   "outputs": [
    {
     "name": "stdout",
     "output_type": "stream",
     "text": [
      "1 {2: {'weight': 0.125}, 3: {'weight': 0.75}}\n",
      "2 {1: {'weight': 0.125}}\n",
      "3 {1: {'weight': 0.75}}\n"
     ]
    }
   ],
   "source": [
    "T = nx.Graph()\n",
    "T.add_weighted_edges_from([(1, 2, 0.125), (1, 3, 0.75)])\n",
    "T.adj\n",
    "for n, nbrs in T.adj.items():\n",
    "    print(n, nbrs)"
   ]
  },
  {
   "cell_type": "code",
   "execution_count": 45,
   "id": "a2cf6b6a",
   "metadata": {},
   "outputs": [
    {
     "name": "stdout",
     "output_type": "stream",
     "text": [
      "(1, 2, 0.125)\n",
      "(3, 4, 0.375)\n"
     ]
    }
   ],
   "source": [
    "for (u, v, wt) in FG.edges.data('weight'):\n",
    "    if wt < 0.5:\n",
    "        print(f\"({u}, {v}, {wt:.3})\")"
   ]
  }
 ],
 "metadata": {
  "kernelspec": {
   "display_name": "Python 3",
   "language": "python",
   "name": "python3"
  },
  "language_info": {
   "codemirror_mode": {
    "name": "ipython",
    "version": 3
   },
   "file_extension": ".py",
   "mimetype": "text/x-python",
   "name": "python",
   "nbconvert_exporter": "python",
   "pygments_lexer": "ipython3",
   "version": "3.9.6"
  }
 },
 "nbformat": 4,
 "nbformat_minor": 5
}
