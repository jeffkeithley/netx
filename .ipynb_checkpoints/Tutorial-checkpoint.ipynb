{
 "cells": [
  {
   "cell_type": "code",
   "execution_count": 153,
   "id": "afec3b8a",
   "metadata": {},
   "outputs": [],
   "source": [
    "import networkx as nx\n",
    "import matplotlib.pyplot as plt"
   ]
  },
  {
   "cell_type": "markdown",
   "id": "17368190",
   "metadata": {},
   "source": [
    "## Basic Add Edges/Nodes"
   ]
  },
  {
   "cell_type": "code",
   "execution_count": 177,
   "id": "6aefcba8",
   "metadata": {},
   "outputs": [],
   "source": [
    "G = nx.Graph()\n",
    "\n",
    "active = [(1, {'label': 0.5}), \n",
    "          (2, {'label': 22}), \n",
    "          (3, {'label': 33})]\n",
    "inactive = [(4, {'label': 44}), \n",
    "            (5, {'label': 55})]\n",
    "\n",
    "G.add_nodes_from(active+inactive)\n",
    "#G.add_nodes_from([(4, {\"color\": \"red\"}), (5, {\"color\": \"green\"})])\n",
    "\n",
    "G.add_edges_from([(1, 2, {'weight1': 1, 'weight2': 1}), \n",
    "                  (2, 3, {'weight1': 2, 'weight2': 1}), \n",
    "                  (4, 5, {'weight1': 1, 'weight2': 1}), \n",
    "                  (3, 4, {'weight1': 1, 'weight2': 1}), \n",
    "                  (2, 4, {'weight1': 1, 'weight2': 1})])"
   ]
  },
  {
   "cell_type": "code",
   "execution_count": 218,
   "id": "a4f17ad8",
   "metadata": {},
   "outputs": [
    {
     "name": "stdout",
     "output_type": "stream",
     "text": [
      "\n"
     ]
    },
    {
     "data": {
      "image/png": "[encoded data removed]",
      "text/plain": [
       "<Figure size 432x288 with 1 Axes>"
      ]
     },
     "metadata": {},
     "output_type": "display_data"
    }
   ],
   "source": [
    "#subax1 = plt.subplot(121)\n",
    "options = {'node_size': 500,\n",
    "           'node_color': 'white',\n",
    "           'edge_color': 'black',\n",
    "           'width': 2,\n",
    "           'with_labels': False}\n",
    "\n",
    "edge_labels1 = dict([((n1, n2), d['weight1'])\n",
    "                    for n1, n2, d in G.edges(data=True)])\n",
    "edge_labels2 = dict([((n2, n1), d['weight2'])\n",
    "                    for n1, n2, d in G.edges(data=True)])\n",
    "edge_labels = {**edge_labels1, **edge_labels2}\n",
    "\n",
    "labels = dict([(n, d['label'])\n",
    "                    for n, d in G.nodes(data=True)])\n",
    "\n",
    "pos = nx.spring_layout(G, seed = 0)\n",
    "nx.draw(G, pos, **options, font_weight='bold')\n",
    "\n",
    "nx.draw_networkx_edge_labels(G, pos, edge_labels=edge_labels,label_pos=0.75,font_size=10,font_color='red')\n",
    "\n",
    "nx.draw_networkx_nodes(G, pos, alpha=0.8, nodelist=[x[0] for x in active], node_color=\"lightblue\")\n",
    "nx.draw_networkx_nodes(G, pos, alpha=0.75, nodelist=[x[0] for x in inactive], node_color=\"red\")\n",
    "\n",
    "nx.draw_networkx_labels(G, pos, labels, font_size=10)\n",
    "print()"
   ]
  },
  {
   "cell_type": "code",
   "execution_count": 3,
   "id": "9d9c012b",
   "metadata": {},
   "outputs": [
    {
     "name": "stdout",
     "output_type": "stream",
     "text": [
      "[1, 2, 3, 'spam', 's', 'p', 'a', 'm']\n",
      "[(1, 2), (1, 3), (3, 'm')]\n"
     ]
    }
   ],
   "source": [
    "G.clear()\n",
    "\n",
    "G.add_edges_from([(1, 2), (1, 3)])\n",
    "G.add_node(1)\n",
    "G.add_edge(1, 2)\n",
    "G.add_node(\"spam\")\n",
    "G.add_nodes_from(\"spam\")\n",
    "G.add_edge(3, 'm')\n",
    "print(G.nodes)\n",
    "print(G.edges)"
   ]
  },
  {
   "cell_type": "markdown",
   "id": "17eda70b",
   "metadata": {},
   "source": [
    "## DiGraph"
   ]
  },
  {
   "cell_type": "code",
   "execution_count": 4,
   "id": "96d222b6",
   "metadata": {},
   "outputs": [
    {
     "name": "stdout",
     "output_type": "stream",
     "text": [
      "[1, 4]\n",
      "[(2, 1), (2, 4), (1, 3), (1, 2)]\n"
     ]
    }
   ],
   "source": [
    "DG = nx.DiGraph()\n",
    "DG.add_edge(2, 1)\n",
    "DG.add_edge(1, 3)\n",
    "DG.add_edge(2, 4)\n",
    "DG.add_edge(1, 2)\n",
    "print(list(DG.successors(2)))\n",
    "print(DG.edges)"
   ]
  },
  {
   "cell_type": "markdown",
   "id": "731628e2",
   "metadata": {},
   "source": [
    "## Examining elements of a graph"
   ]
  },
  {
   "cell_type": "code",
   "execution_count": 5,
   "id": "a46c1ebe",
   "metadata": {},
   "outputs": [
    {
     "name": "stdout",
     "output_type": "stream",
     "text": [
      "[1, 2, 3, 'spam', 's', 'p', 'a', 'm']\n",
      "[(1, 2), (1, 3), (3, 'm')]\n",
      "{2: {}, 3: {}}\n",
      "2\n"
     ]
    }
   ],
   "source": [
    "print(list(G.nodes))\n",
    "print(list(G.edges))\n",
    "print(G.adj[1])\n",
    "print(G.degree[1])"
   ]
  },
  {
   "cell_type": "code",
   "execution_count": 6,
   "id": "1eefd017",
   "metadata": {},
   "outputs": [
    {
     "name": "stdout",
     "output_type": "stream",
     "text": [
      "[(2, 1), ('m', 3)]\n"
     ]
    },
    {
     "data": {
      "text/plain": [
       "DegreeView({2: 1, 3: 2})"
      ]
     },
     "execution_count": 6,
     "metadata": {},
     "output_type": "execute_result"
    }
   ],
   "source": [
    "print(G.edges([2, 'm']))\n",
    "G.degree([2, 3])"
   ]
  },
  {
   "cell_type": "markdown",
   "id": "3787a7f1",
   "metadata": {},
   "source": [
    "## Removing elements from a graph"
   ]
  },
  {
   "cell_type": "code",
   "execution_count": 7,
   "id": "ae60423d",
   "metadata": {},
   "outputs": [
    {
     "name": "stdout",
     "output_type": "stream",
     "text": [
      "[1, 3, 'spam']\n"
     ]
    }
   ],
   "source": [
    "G.remove_node(2)\n",
    "G.remove_nodes_from(\"spam\")\n",
    "print(list(G.nodes))\n",
    "G.remove_edge(1, 3)"
   ]
  },
  {
   "cell_type": "markdown",
   "id": "6baff340",
   "metadata": {},
   "source": [
    "## Accessing edges and neighbors"
   ]
  },
  {
   "cell_type": "code",
   "execution_count": 8,
   "id": "80447504",
   "metadata": {},
   "outputs": [
    {
     "name": "stdout",
     "output_type": "stream",
     "text": [
      "{2: {'color': 'yellow'}}\n",
      "{'color': 'yellow'}\n"
     ]
    }
   ],
   "source": [
    "G = nx.Graph([(1, 2, {\"color\": \"yellow\"})])\n",
    "print(G[1])\n",
    "print(G.edges[1, 2])"
   ]
  },
  {
   "cell_type": "code",
   "execution_count": 9,
   "id": "a0cc31a9",
   "metadata": {},
   "outputs": [
    {
     "data": {
      "text/plain": [
       "EdgeView([(1, 2), (1, 3)])"
      ]
     },
     "execution_count": 9,
     "metadata": {},
     "output_type": "execute_result"
    }
   ],
   "source": [
    "G.add_edge(1, 3)\n",
    "G[1][3]['color'] = 'blue'\n",
    "G.edges[1, 2]['color'] = 'red'\n",
    "G.edges"
   ]
  },
  {
   "cell_type": "code",
   "execution_count": 10,
   "id": "1efbedc6",
   "metadata": {},
   "outputs": [
    {
     "name": "stdout",
     "output_type": "stream",
     "text": [
      "(1, 2, 0.125)\n",
      "(2, 1, 0.125)\n",
      "(3, 4, 0.375)\n",
      "(4, 3, 0.375)\n"
     ]
    }
   ],
   "source": [
    "FG = nx.Graph()\n",
    "FG.add_weighted_edges_from([(1, 2, 0.125), (1, 3, 0.75), (2, 4, 1.2), (3, 4, 0.375)])\n",
    "for n, nbrs in FG.adj.items():\n",
    "    for nbr, eattr in nbrs.items():\n",
    "        wt = eattr['weight']\n",
    "        if wt < 0.5: print(f\"({n}, {nbr}, {wt:.3})\")"
   ]
  },
  {
   "cell_type": "code",
   "execution_count": 11,
   "id": "259057c4",
   "metadata": {},
   "outputs": [
    {
     "name": "stdout",
     "output_type": "stream",
     "text": [
      "(1, 2, 0.125)\n",
      "(3, 4, 0.375)\n"
     ]
    }
   ],
   "source": [
    "for (u, v, wt) in FG.edges.data('weight'):\n",
    "    if wt < 0.5:\n",
    "        print(f\"({u}, {v}, {wt:.3})\")"
   ]
  },
  {
   "cell_type": "markdown",
   "id": "48bbbab1",
   "metadata": {},
   "source": [
    "## Adding attributes to graphs, nodes, and edges"
   ]
  },
  {
   "cell_type": "code",
   "execution_count": 12,
   "id": "50bd7f62",
   "metadata": {},
   "outputs": [
    {
     "name": "stdout",
     "output_type": "stream",
     "text": [
      "{'day': 'Friday'}\n",
      "{'day': 'Monday'}\n"
     ]
    }
   ],
   "source": [
    "# Graph attributes\n",
    "G = nx.Graph(day=\"Friday\")\n",
    "print(G.graph)\n",
    "\n",
    "G.graph['day'] = \"Monday\"\n",
    "print(G.graph)"
   ]
  },
  {
   "cell_type": "code",
   "execution_count": 13,
   "id": "9d375dda",
   "metadata": {},
   "outputs": [
    {
     "name": "stdout",
     "output_type": "stream",
     "text": [
      "{'time': '5pm'}\n",
      "[(1, {'time': '5pm', 'room': 714}), (3, {'time': '2pm'})]\n"
     ]
    }
   ],
   "source": [
    "# Node attributes\n",
    "G.add_node(1, time='5pm')\n",
    "G.add_nodes_from([3], time='2pm')\n",
    "print(G.nodes[1])\n",
    "\n",
    "G.nodes[1]['room'] = 714\n",
    "print(G.nodes.data())"
   ]
  },
  {
   "cell_type": "code",
   "execution_count": 14,
   "id": "310157b1",
   "metadata": {},
   "outputs": [
    {
     "name": "stdout",
     "output_type": "stream",
     "text": [
      "[(1, 2, {'weight': 4.7, 'color': 'blue'}), (3, 4, {'color': 'red', 'weight': 4.2}), (3, 2, {'weight': 8}), (4, 5, {'color': 'red'})]\n"
     ]
    }
   ],
   "source": [
    "# Edge attributes\n",
    "G.add_edge(1, 2, weight=4.7)\n",
    "G.add_edges_from([(3, 4), (4, 5)], color='red')\n",
    "G.add_edges_from([(1, 2, {'color': 'blue'}), (2, 3, {'weight': 8})])\n",
    "G[1][2]['weight'] = 4.7\n",
    "G.edges[3, 4]['weight'] = 4.2\n",
    "print(G.edges.data())"
   ]
  },
  {
   "cell_type": "markdown",
   "id": "1e38fe7b",
   "metadata": {},
   "source": [
    "## Directed Graphs"
   ]
  },
  {
   "cell_type": "code",
   "execution_count": 15,
   "id": "ef4a48ad",
   "metadata": {},
   "outputs": [
    {
     "name": "stdout",
     "output_type": "stream",
     "text": [
      "0.5\n",
      "1.25\n",
      "[2]\n",
      "[2]\n"
     ]
    }
   ],
   "source": [
    "DG = nx.DiGraph()\n",
    "DG.add_weighted_edges_from([(1, 2, 0.5), (3, 1, 0.75)])\n",
    "print(DG.out_degree(1, weight='weight'))\n",
    "print(DG.degree(1, weight='weight'))\n",
    "print(list(DG.successors(1)))\n",
    "print(list(DG.neighbors(1)))\n",
    "\n",
    "# Convert to undirected graph\n",
    "H = nx.Graph(G)"
   ]
  },
  {
   "cell_type": "markdown",
   "id": "5dac71f0",
   "metadata": {},
   "source": [
    "## Multigraphs"
   ]
  },
  {
   "cell_type": "code",
   "execution_count": 16,
   "id": "1c22cb04",
   "metadata": {},
   "outputs": [
    {
     "name": "stdout",
     "output_type": "stream",
     "text": [
      "{1: 1.25, 2: 1.75, 3: 0.5}\n"
     ]
    },
    {
     "data": {
      "text/plain": [
       "[1, 2, 3]"
      ]
     },
     "execution_count": 16,
     "metadata": {},
     "output_type": "execute_result"
    }
   ],
   "source": [
    "MG = nx.MultiGraph()\n",
    "MG.add_weighted_edges_from([(1, 2, 0.5), (1, 2, 0.75), (2, 3, 0.5)])\n",
    "print(dict(MG.degree(weight='weight')))\n",
    "\n",
    "GG = nx.Graph()\n",
    "for n, nbrs in MG.adjacency():\n",
    "    for nbr, edict in nbrs.items():\n",
    "        minvalue = min(d['weight'] for d in edict.values())\n",
    "        GG.add_edge(n, nbr, weight=minvalue)\n",
    "        \n",
    "nx.shortest_path(GG, 1, 3)"
   ]
  },
  {
   "cell_type": "markdown",
   "id": "e434f7c4",
   "metadata": {},
   "source": [
    "## Graph Generators and Graph Operations"
   ]
  },
  {
   "cell_type": "code",
   "execution_count": 17,
   "id": "2e678b01",
   "metadata": {},
   "outputs": [],
   "source": [
    "K_5 = nx.complete_graph(5)\n",
    "K_3_5 = nx.complete_bipartite_graph(3, 5)\n",
    "barbell = nx.barbell_graph(10, 10)\n",
    "lollipop = nx.lollipop_graph(10, 20)"
   ]
  },
  {
   "cell_type": "code",
   "execution_count": 18,
   "id": "cff5b0ec",
   "metadata": {},
   "outputs": [],
   "source": [
    "er = nx.erdos_renyi_graph(100, 0.15)\n",
    "ws = nx.watts_strogatz_graph(30, 3, 0.1)\n",
    "ba = nx.barabasi_albert_graph(100, 5)\n",
    "red = nx.random_lobster(100, 0.9, 0.9)"
   ]
  },
  {
   "cell_type": "code",
   "execution_count": 19,
   "id": "6f02fe65",
   "metadata": {},
   "outputs": [],
   "source": [
    "# nx.write_gml(red, \"path.to.file\")\n",
    "# mygraph = nx.read_gml(\"path.to.file\")"
   ]
  },
  {
   "cell_type": "markdown",
   "id": "c223d94e",
   "metadata": {},
   "source": [
    "## Analyzing Graphs"
   ]
  },
  {
   "cell_type": "code",
   "execution_count": 20,
   "id": "111c2d79",
   "metadata": {},
   "outputs": [
    {
     "name": "stdout",
     "output_type": "stream",
     "text": [
      "[{1, 2, 3}, {'spam'}]\n",
      "[0, 1, 1, 2]\n",
      "{1: 0, 2: 0, 3: 0, 'spam': 0}\n"
     ]
    }
   ],
   "source": [
    "G = nx.Graph()\n",
    "G.add_edges_from([(1, 2), (1, 3)])\n",
    "G.add_node(\"spam\")\n",
    "print(list(nx.connected_components(G)))\n",
    "print(sorted(d for n, d in G.degree()))\n",
    "print(nx.clustering(G))"
   ]
  },
  {
   "cell_type": "code",
   "execution_count": 21,
   "id": "d2a75e28",
   "metadata": {},
   "outputs": [
    {
     "data": {
      "text/plain": [
       "{1: {1: [1], 2: [1, 2], 3: [1, 3]},\n",
       " 2: {2: [2], 1: [2, 1], 3: [2, 1, 3]},\n",
       " 3: {3: [3], 1: [3, 1], 2: [3, 1, 2]},\n",
       " 'spam': {'spam': ['spam']}}"
      ]
     },
     "execution_count": 21,
     "metadata": {},
     "output_type": "execute_result"
    }
   ],
   "source": [
    "sp = dict(nx.all_pairs_shortest_path(G))\n",
    "sp"
   ]
  },
  {
   "cell_type": "code",
   "execution_count": 22,
   "id": "80a27daa",
   "metadata": {},
   "outputs": [],
   "source": [
    "## Drawing Graphs"
   ]
  },
  {
   "cell_type": "code",
   "execution_count": 24,
   "id": "99b5edb7",
   "metadata": {},
   "outputs": [],
   "source": [
    "import matplotlib.pyplot as plt"
   ]
  },
  {
   "cell_type": "code",
   "execution_count": 25,
   "id": "bacb4a57",
   "metadata": {},
   "outputs": [
    {
     "data": {
      "image/png": "[encoded data removed]",
      "text/plain": [
       "<Figure size 432x288 with 2 Axes>"
      ]
     },
     "metadata": {},
     "output_type": "display_data"
    }
   ],
   "source": [
    "G = nx.petersen_graph()\n",
    "subax1 = plt.subplot(121)\n",
    "nx.draw(G, with_labels=True, font_weight='bold')\n",
    "subax2 = plt.subplot(122)\n",
    "nx.draw_shell(G, nlist=[range(5, 10), range(5)], with_labels=True, font_weight='bold')"
   ]
  },
  {
   "cell_type": "code",
   "execution_count": 30,
   "id": "5e8d890c",
   "metadata": {},
   "outputs": [
    {
     "data": {
      "image/png": "[encoded data removed]",
      "text/plain": [
       "<Figure size 432x288 with 4 Axes>"
      ]
     },
     "metadata": {},
     "output_type": "display_data"
    }
   ],
   "source": [
    "options = {'node_color': 'blue',\n",
    "           'node_size': 200,\n",
    "           'edge_color': 'black',\n",
    "           'width': 2}\n",
    "subax1 = plt.subplot(221)\n",
    "nx.draw_random(G, **options)\n",
    "subax2 = plt.subplot(222)\n",
    "nx.draw_circular(G, **options)\n",
    "subax3 = plt.subplot(223)\n",
    "nx.draw_spectral(G, **options)\n",
    "subax4 = plt.subplot(224)\n",
    "nx.draw_shell(G, nlist=[range(5,10), range(5)], **options)"
   ]
  },
  {
   "cell_type": "code",
   "execution_count": 31,
   "id": "8f80f148",
   "metadata": {},
   "outputs": [
    {
     "data": {
      "image/png": "[encoded data removed]",
      "text/plain": [
       "<Figure size 432x288 with 1 Axes>"
      ]
     },
     "metadata": {},
     "output_type": "display_data"
    }
   ],
   "source": [
    "G = nx.dodecahedral_graph()\n",
    "shells = [[2, 3, 4, 5, 6], [8, 1, 0, 19, 18, 17, 16, 15, 14, 7], [9, 10, 11, 12, 13]]\n",
    "nx.draw_shell(G, nlist=shells, **options)"
   ]
  },
  {
   "cell_type": "code",
   "execution_count": null,
   "id": "d1f6a7a3",
   "metadata": {},
   "outputs": [],
   "source": [
    "# nx.draw(G)\n",
    "# plt.savefig(\"path.png\")"
   ]
  },
  {
   "cell_type": "code",
   "execution_count": null,
   "id": "f9b74d31",
   "metadata": {},
   "outputs": [],
   "source": [
    "# from networkx.drawing.nx_pydot import write_dot\n",
    "# pos = nx.nx_agraph.graphviz_layout(G)\n",
    "# nx.draw(G, pos=pos)\n",
    "# write_dot(G, 'file.dot')"
   ]
  }
 ],
 "metadata": {
  "kernelspec": {
   "display_name": "Python 3",
   "language": "python",
   "name": "python3"
  },
  "language_info": {
   "codemirror_mode": {
    "name": "ipython",
    "version": 3
   },
   "file_extension": ".py",
   "mimetype": "text/x-python",
   "name": "python",
   "nbconvert_exporter": "python",
   "pygments_lexer": "ipython3",
   "version": "3.9.1"
  }
 },
 "nbformat": 4,
 "nbformat_minor": 5
}
